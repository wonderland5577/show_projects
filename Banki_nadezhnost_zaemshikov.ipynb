{
 "cells": [
  {
   "cell_type": "markdown",
   "metadata": {},
   "source": [
    "## Исследование надёжности заёмщиков\n",
    "\n",
    "Заказчик — кредитный отдел банка. Нужно разобраться, влияет ли семейное положение и количество детей клиента на факт погашения кредита в срок. Входные данные от банка — статистика о платёжеспособности клиентов.\n",
    "\n",
    "Результаты исследования будут учтены при построении модели **кредитного скоринга** — специальной системы, которая оценивает способность потенциального заёмщика вернуть кредит банку."
   ]
  },
  {
   "cell_type": "markdown",
   "metadata": {},
   "source": [
    "### Шаг 1. Изучение общей информации"
   ]
  },
  {
   "cell_type": "code",
   "execution_count": 2,
   "metadata": {},
   "outputs": [
    {
     "data": {
      "text/html": [
       "<div>\n",
       "<style scoped>\n",
       "    .dataframe tbody tr th:only-of-type {\n",
       "        vertical-align: middle;\n",
       "    }\n",
       "\n",
       "    .dataframe tbody tr th {\n",
       "        vertical-align: top;\n",
       "    }\n",
       "\n",
       "    .dataframe thead th {\n",
       "        text-align: right;\n",
       "    }\n",
       "</style>\n",
       "<table border=\"1\" class=\"dataframe\">\n",
       "  <thead>\n",
       "    <tr style=\"text-align: right;\">\n",
       "      <th></th>\n",
       "      <th>children</th>\n",
       "      <th>days_employed</th>\n",
       "      <th>dob_years</th>\n",
       "      <th>education</th>\n",
       "      <th>education_id</th>\n",
       "      <th>family_status</th>\n",
       "      <th>family_status_id</th>\n",
       "      <th>gender</th>\n",
       "      <th>income_type</th>\n",
       "      <th>debt</th>\n",
       "      <th>total_income</th>\n",
       "      <th>purpose</th>\n",
       "    </tr>\n",
       "  </thead>\n",
       "  <tbody>\n",
       "    <tr>\n",
       "      <th>16615</th>\n",
       "      <td>1</td>\n",
       "      <td>NaN</td>\n",
       "      <td>33</td>\n",
       "      <td>среднее</td>\n",
       "      <td>1</td>\n",
       "      <td>женат / замужем</td>\n",
       "      <td>0</td>\n",
       "      <td>F</td>\n",
       "      <td>сотрудник</td>\n",
       "      <td>0</td>\n",
       "      <td>NaN</td>\n",
       "      <td>покупка жилья для сдачи</td>\n",
       "    </tr>\n",
       "    <tr>\n",
       "      <th>3704</th>\n",
       "      <td>0</td>\n",
       "      <td>-4288.71441</td>\n",
       "      <td>0</td>\n",
       "      <td>среднее</td>\n",
       "      <td>1</td>\n",
       "      <td>в разводе</td>\n",
       "      <td>3</td>\n",
       "      <td>F</td>\n",
       "      <td>сотрудник</td>\n",
       "      <td>0</td>\n",
       "      <td>191033.656419</td>\n",
       "      <td>автомобили</td>\n",
       "    </tr>\n",
       "  </tbody>\n",
       "</table>\n",
       "</div>"
      ],
      "text/plain": [
       "       children  days_employed  dob_years education  education_id  \\\n",
       "16615         1            NaN         33   среднее             1   \n",
       "3704          0    -4288.71441          0   среднее             1   \n",
       "\n",
       "         family_status  family_status_id gender income_type  debt  \\\n",
       "16615  женат / замужем                 0      F   сотрудник     0   \n",
       "3704         в разводе                 3      F   сотрудник     0   \n",
       "\n",
       "        total_income                  purpose  \n",
       "16615            NaN  покупка жилья для сдачи  \n",
       "3704   191033.656419               автомобили  "
      ]
     },
     "execution_count": 2,
     "metadata": {},
     "output_type": "execute_result"
    }
   ],
   "source": [
    "import pandas as pd\n",
    "data = pd.read_csv('data.csv')\n",
    "\n",
    "data.sample(2)"
   ]
  },
  {
   "cell_type": "markdown",
   "metadata": {},
   "source": [
    "### Вывод"
   ]
  },
  {
   "cell_type": "markdown",
   "metadata": {},
   "source": [
    "В таблице 21525 строк и 12 столбцов. Встречаются данные целочисленного, вещественного и object типов. Среди данных есть пропуски в значениях дохода и трудового стажа. Также присутствуют отрицательные значения в данных о трудовом стаже и детях. В графе об образовании значения записаны в разных регистрах (но это не критично, так как есть дополнительная информация об образовании, закодированная в числовом виде)."
   ]
  },
  {
   "cell_type": "markdown",
   "metadata": {},
   "source": [
    "### Шаг 2. Предобработка данных"
   ]
  },
  {
   "cell_type": "markdown",
   "metadata": {},
   "source": [
    "### Обработка пропусков"
   ]
  },
  {
   "cell_type": "code",
   "execution_count": 4,
   "metadata": {},
   "outputs": [
    {
     "data": {
      "text/plain": [
       "0"
      ]
     },
     "execution_count": 4,
     "metadata": {},
     "output_type": "execute_result"
    }
   ],
   "source": [
    "data = data.fillna(0)\n",
    "data.isna().sum().sum()"
   ]
  },
  {
   "cell_type": "markdown",
   "metadata": {},
   "source": [
    "### Вывод"
   ]
  },
  {
   "cell_type": "markdown",
   "metadata": {},
   "source": [
    "По некоторым заемщикам нет информации об их трудоустройстве и доходах (всего 2174).\n",
    "Эти значения были заполнены 0, так как равновероятно, что дохода и работы нет, как и то, что данные просто отсутствуют.\n",
    "\n",
    "Я взяла для анализа второй вариант, так как с таким раскладом анализ будет более \"строгим\", чем если присваивать пустым значениям среднюю величину."
   ]
  },
  {
   "cell_type": "markdown",
   "metadata": {},
   "source": [
    "### Замена типа данных"
   ]
  },
  {
   "cell_type": "code",
   "execution_count": 5,
   "metadata": {},
   "outputs": [],
   "source": [
    "data['days_employed'] = data['days_employed'].astype('int')\n",
    "data['total_income'] = data['total_income'].astype('int')\n",
    "data['education'] = data['education'].str.lower() # приведем написание данных об образовании к нижнему регистру\n"
   ]
  },
  {
   "cell_type": "markdown",
   "metadata": {},
   "source": [
    "### Вывод"
   ]
  },
  {
   "cell_type": "markdown",
   "metadata": {},
   "source": [
    "Изменила тип данных float на int, чтоб было удобнее проводить анализ в дальнейшем методом astype('int')"
   ]
  },
  {
   "cell_type": "markdown",
   "metadata": {},
   "source": [
    "### Обработка дубликатов"
   ]
  },
  {
   "cell_type": "code",
   "execution_count": 5,
   "metadata": {},
   "outputs": [
    {
     "data": {
      "text/plain": [
       "0"
      ]
     },
     "execution_count": 5,
     "metadata": {},
     "output_type": "execute_result"
    }
   ],
   "source": [
    "data = data.drop_duplicates().reset_index(drop = True)\n",
    "data.duplicated().sum()"
   ]
  },
  {
   "cell_type": "markdown",
   "metadata": {},
   "source": [
    "### Вывод"
   ]
  },
  {
   "cell_type": "markdown",
   "metadata": {},
   "source": [
    "Для выявления дубликатов выбрала метод duplicated().sum(), чтоб определить общее количество повторяющихся строк.\n",
    "\n",
    "Всего было выявлено 54 дубликата. Они могли появиться из-за того, что заемщик обращался в банк неоднократно, либо к разным сотрудникам банка. Таким образом данные о заемщике попали в базу более 1 раза.\n",
    "\n",
    "Чтоб очистить данные от одинаковых строк (повторной информации о заемщике), воспользовалась методом drop_duplicated и перезапустила индексацию строк.\n",
    "\n",
    "В конце проверила, чтоб сумма дубликатов в таблице = 0."
   ]
  },
  {
   "cell_type": "markdown",
   "metadata": {},
   "source": [
    "### Лемматизация"
   ]
  },
  {
   "cell_type": "code",
   "execution_count": 6,
   "metadata": {},
   "outputs": [
    {
     "name": "stdout",
     "output_type": "stream",
     "text": [
      "Counter({' ': 55023, 'недвижимость': 6351, 'покупка': 5897, 'жилье': 4460, 'автомобиль': 4306, 'образование': 4013, 'с': 2918, 'операция': 2604, 'свадьба': 2324, 'свой': 2230, 'на': 2222, 'строительство': 1878, 'высокий': 1374, 'получение': 1314, 'коммерческий': 1311, 'для': 1289, 'жилой': 1230, 'сделка': 941, 'дополнительный': 906, 'заниматься': 904, 'подержать': 853, 'проведение': 768, 'сыграть': 765, 'сдача': 651, 'семья': 638, 'собственный': 635, 'со': 627, 'ремонт': 607, 'приобретение': 461, 'профильный': 436, 'подержанный': 111, ' \\n': 1})\n"
     ]
    }
   ],
   "source": [
    "from pymystem3 import Mystem\n",
    "m = Mystem()\n",
    "from collections import Counter\n",
    "data['purpose'] += ' '  # добавила пробел к концу строки о цели кредита, чтоб избежать склейки слов\n",
    "row = data['purpose'].sum() # сделала одну строку из всех назначений кредита для дальнейшего выявления лемм\n",
    "lemmas = m.lemmatize(row) \n",
    "print(Counter(lemmas))"
   ]
  },
  {
   "cell_type": "markdown",
   "metadata": {},
   "source": [
    "### Вывод"
   ]
  },
  {
   "cell_type": "markdown",
   "metadata": {},
   "source": [
    "Из всех выявленных значений лемм можно сделать вывод, что люди берут кредиты на несколько основных целей: покупка жилья/недвижимости, покупка автомобиля, свадьба, операция, образование, ремонт, сторительство, проведение мероприятия."
   ]
  },
  {
   "cell_type": "code",
   "execution_count": 27,
   "metadata": {},
   "outputs": [
    {
     "data": {
      "text/html": [
       "<div>\n",
       "<style scoped>\n",
       "    .dataframe tbody tr th:only-of-type {\n",
       "        vertical-align: middle;\n",
       "    }\n",
       "\n",
       "    .dataframe tbody tr th {\n",
       "        vertical-align: top;\n",
       "    }\n",
       "\n",
       "    .dataframe thead th {\n",
       "        text-align: right;\n",
       "    }\n",
       "</style>\n",
       "<table border=\"1\" class=\"dataframe\">\n",
       "  <thead>\n",
       "    <tr style=\"text-align: right;\">\n",
       "      <th></th>\n",
       "      <th>children</th>\n",
       "      <th>days_employed</th>\n",
       "      <th>dob_years</th>\n",
       "      <th>education</th>\n",
       "      <th>education_id</th>\n",
       "      <th>family_status</th>\n",
       "      <th>family_status_id</th>\n",
       "      <th>gender</th>\n",
       "      <th>income_type</th>\n",
       "      <th>debt</th>\n",
       "      <th>total_income</th>\n",
       "      <th>purpose</th>\n",
       "      <th>age_group</th>\n",
       "      <th>income_range</th>\n",
       "      <th>parents</th>\n",
       "      <th>family_keen</th>\n",
       "      <th>purpose_category</th>\n",
       "    </tr>\n",
       "  </thead>\n",
       "  <tbody>\n",
       "    <tr>\n",
       "      <td>0</td>\n",
       "      <td>1</td>\n",
       "      <td>-8437</td>\n",
       "      <td>42</td>\n",
       "      <td>высшее</td>\n",
       "      <td>0</td>\n",
       "      <td>женат / замужем</td>\n",
       "      <td>0</td>\n",
       "      <td>F</td>\n",
       "      <td>сотрудник</td>\n",
       "      <td>0</td>\n",
       "      <td>253875</td>\n",
       "      <td>покупка жилья</td>\n",
       "      <td>взрослый</td>\n",
       "      <td>очень высокий</td>\n",
       "      <td>1 ребенок</td>\n",
       "      <td>семейный</td>\n",
       "      <td>жилье</td>\n",
       "    </tr>\n",
       "    <tr>\n",
       "      <td>1</td>\n",
       "      <td>1</td>\n",
       "      <td>-4024</td>\n",
       "      <td>36</td>\n",
       "      <td>среднее</td>\n",
       "      <td>1</td>\n",
       "      <td>женат / замужем</td>\n",
       "      <td>0</td>\n",
       "      <td>F</td>\n",
       "      <td>сотрудник</td>\n",
       "      <td>0</td>\n",
       "      <td>112080</td>\n",
       "      <td>приобретение автомобиля</td>\n",
       "      <td>взрослый</td>\n",
       "      <td>средний</td>\n",
       "      <td>1 ребенок</td>\n",
       "      <td>семейный</td>\n",
       "      <td>авто</td>\n",
       "    </tr>\n",
       "    <tr>\n",
       "      <td>2</td>\n",
       "      <td>0</td>\n",
       "      <td>-5623</td>\n",
       "      <td>33</td>\n",
       "      <td>среднее</td>\n",
       "      <td>1</td>\n",
       "      <td>женат / замужем</td>\n",
       "      <td>0</td>\n",
       "      <td>M</td>\n",
       "      <td>сотрудник</td>\n",
       "      <td>0</td>\n",
       "      <td>145885</td>\n",
       "      <td>покупка жилья</td>\n",
       "      <td>взрослый</td>\n",
       "      <td>средний</td>\n",
       "      <td>бездетный</td>\n",
       "      <td>семейный</td>\n",
       "      <td>жилье</td>\n",
       "    </tr>\n",
       "    <tr>\n",
       "      <td>3</td>\n",
       "      <td>3</td>\n",
       "      <td>-4124</td>\n",
       "      <td>32</td>\n",
       "      <td>среднее</td>\n",
       "      <td>1</td>\n",
       "      <td>женат / замужем</td>\n",
       "      <td>0</td>\n",
       "      <td>M</td>\n",
       "      <td>сотрудник</td>\n",
       "      <td>0</td>\n",
       "      <td>267628</td>\n",
       "      <td>дополнительное образование</td>\n",
       "      <td>взрослый</td>\n",
       "      <td>очень высокий</td>\n",
       "      <td>бездетный</td>\n",
       "      <td>семейный</td>\n",
       "      <td>образование</td>\n",
       "    </tr>\n",
       "    <tr>\n",
       "      <td>4</td>\n",
       "      <td>0</td>\n",
       "      <td>340266</td>\n",
       "      <td>53</td>\n",
       "      <td>среднее</td>\n",
       "      <td>1</td>\n",
       "      <td>гражданский брак</td>\n",
       "      <td>1</td>\n",
       "      <td>F</td>\n",
       "      <td>пенсионер</td>\n",
       "      <td>0</td>\n",
       "      <td>158616</td>\n",
       "      <td>сыграть свадьбу</td>\n",
       "      <td>взрослый</td>\n",
       "      <td>высокий</td>\n",
       "      <td>бездетный</td>\n",
       "      <td>без семьи</td>\n",
       "      <td>свадьба</td>\n",
       "    </tr>\n",
       "  </tbody>\n",
       "</table>\n",
       "</div>"
      ],
      "text/plain": [
       "   children  days_employed  dob_years education  education_id  \\\n",
       "0         1          -8437         42    высшее             0   \n",
       "1         1          -4024         36   среднее             1   \n",
       "2         0          -5623         33   среднее             1   \n",
       "3         3          -4124         32   среднее             1   \n",
       "4         0         340266         53   среднее             1   \n",
       "\n",
       "      family_status  family_status_id gender income_type  debt  total_income  \\\n",
       "0   женат / замужем                 0      F   сотрудник     0        253875   \n",
       "1   женат / замужем                 0      F   сотрудник     0        112080   \n",
       "2   женат / замужем                 0      M   сотрудник     0        145885   \n",
       "3   женат / замужем                 0      M   сотрудник     0        267628   \n",
       "4  гражданский брак                 1      F   пенсионер     0        158616   \n",
       "\n",
       "                       purpose age_group   income_range    parents  \\\n",
       "0               покупка жилья   взрослый  очень высокий  1 ребенок   \n",
       "1     приобретение автомобиля   взрослый        средний  1 ребенок   \n",
       "2               покупка жилья   взрослый        средний  бездетный   \n",
       "3  дополнительное образование   взрослый  очень высокий  бездетный   \n",
       "4             сыграть свадьбу   взрослый        высокий  бездетный   \n",
       "\n",
       "  family_keen purpose_category  \n",
       "0    семейный            жилье  \n",
       "1    семейный             авто  \n",
       "2    семейный            жилье  \n",
       "3    семейный      образование  \n",
       "4   без семьи          свадьба  "
      ]
     },
     "execution_count": 27,
     "metadata": {},
     "output_type": "execute_result"
    }
   ],
   "source": [
    "def age_group(age): # распределим заемщиков по возрастным критериям\n",
    "    if age < 21:\n",
    "        return 'ребенок'\n",
    "    if 21 <= age < 65:\n",
    "        return 'взрослый'\n",
    "    if age >= 64:\n",
    "        return 'пенсионер'\n",
    "data['age_group'] = data['dob_years'].apply(age_group)\n",
    "\n",
    "#-----------------------------------------------------------------------------------------------------------\n",
    "\n",
    "def income_range(income): # распределим заемщиков по доходу\n",
    "    if income  < 80000:\n",
    "        return 'низкий'\n",
    "    if 80000 <= income < 150000:\n",
    "        return 'средний'\n",
    "    if 150000 <= income < 200000:\n",
    "        return 'высокий'\n",
    "    if income >= 200000:\n",
    "        return 'очень высокий'\n",
    "data['income_range'] = data['total_income'].apply(income_range)\n",
    "\n",
    "#-----------------------------------------------------------------------------------------------------------\n",
    "    \n",
    "def parents(kids): # распределим заемщиков по наличию детей\n",
    "    if kids == 1:\n",
    "        return '1 ребенок'\n",
    "    if kids == 2:\n",
    "        return '2 ребенка'\n",
    "    if kids > 3:\n",
    "        return 'многодетный'\n",
    "    return 'бездетный'\n",
    "data['parents'] = data['children'].apply(parents) \n",
    "\n",
    "#-----------------------------------------------------------------------------------------------------------\n",
    "\n",
    "def family_keen(row): # распределим заемщиков по типам семейный/без семьи\n",
    "    status = row['family_status']\n",
    "    kids = row['parents']\n",
    "   \n",
    "    if status  == 'Не женат / не замужем':\n",
    "        return 'без семьи'\n",
    "    \n",
    "    if status == 'в разводе':\n",
    "        if kids == 'бездетный':\n",
    "            return 'без семьи'\n",
    "        return 'семейный'\n",
    "    \n",
    "    if status == 'вдовец / вдова':\n",
    "        if kids == 'бездетный':\n",
    "            return 'без семьи'\n",
    "        return 'семейный' \n",
    "    \n",
    "    if status == 'гражданский брак':\n",
    "        if kids == 'бездетный':\n",
    "            return 'без семьи'\n",
    "        return 'семейный' \n",
    "    \n",
    "    if status == 'женат / замужем':\n",
    "        return 'семейный'\n",
    "    \n",
    "data['family_keen'] = data.apply(family_keen, axis=1)\n",
    "\n",
    "#-----------------------------------------------------------------------------------------------------------\n",
    "     \n",
    "def purpose_category(category): # распрелелим заемщиков в зависимости от целей кредита\n",
    "    if 'жи' in category:\n",
    "        return 'жилье'\n",
    "    if 'авто' in category:\n",
    "        return 'авто'\n",
    "    if 'свадьб' in category:\n",
    "        return 'свадьба'\n",
    "    if 'образов' in category:\n",
    "        return 'образование'\n",
    "    if 'операц' in category:\n",
    "        return 'операция'\n",
    "    if 'строит' in category:\n",
    "        return 'строительство'\n",
    "    return 'другое'\n",
    "data['purpose_category'] = data['purpose'].apply(purpose_category) \n",
    "\n",
    "\n",
    "\n",
    "data.head(5)\n",
    "    \n",
    "\n",
    "\n"
   ]
  },
  {
   "cell_type": "markdown",
   "metadata": {},
   "source": [
    "### Вывод"
   ]
  },
  {
   "cell_type": "markdown",
   "metadata": {},
   "source": [
    "Для упрощения дельнейшего анализа, я разделила всех заемщиков по разным категорям групп:\n",
    "\n",
    " 1) по возрасту: на пенсионеров, взрослых и детей\n",
    " \n",
    " 2) по уровню дохода: на людей с низким, средним, высоким и очень высоким доходом. Распределение было произведено в зависимости от примерного нахождения дохода в сравнении с квартилями: 80тыр - низкий доход; от 80 до 150 тыр - средний доход; от 150 до 200 тыр - высокий; больше 200 тыр - очень высокий\n",
    " \n",
    " 3) по наличию детей: с 1 ребенком, с 2 детьми, многодетный (с 3 и более), без детей - бездетный\n",
    " \n",
    " 4) по семейному положению: на семейных (сюда попали все, кто имеет супруга(у) и/или детей) и несемейных (сюда попали те, у кого нет супруга(и) и/или детей)\n"
   ]
  },
  {
   "cell_type": "code",
   "execution_count": 28,
   "metadata": {},
   "outputs": [
    {
     "data": {
      "text/plain": [
       "count      21454\n",
       "mean      151010\n",
       "std       109736\n",
       "min            0\n",
       "25%        89088\n",
       "50%       135781\n",
       "75%       195813\n",
       "max      2265604\n",
       "Name: total_income, dtype: int64"
      ]
     },
     "execution_count": 28,
     "metadata": {},
     "output_type": "execute_result"
    }
   ],
   "source": [
    "data['total_income'].describe().astype('int')"
   ]
  },
  {
   "cell_type": "markdown",
   "metadata": {},
   "source": [
    "### Шаг 3. Ответьте на вопросы"
   ]
  },
  {
   "cell_type": "markdown",
   "metadata": {},
   "source": [
    "- Есть ли зависимость между наличием детей и возвратом кредита в срок?"
   ]
  },
  {
   "cell_type": "code",
   "execution_count": 29,
   "metadata": {},
   "outputs": [
    {
     "data": {
      "text/html": [
       "<div>\n",
       "<style scoped>\n",
       "    .dataframe tbody tr th:only-of-type {\n",
       "        vertical-align: middle;\n",
       "    }\n",
       "\n",
       "    .dataframe tbody tr th {\n",
       "        vertical-align: top;\n",
       "    }\n",
       "\n",
       "    .dataframe thead th {\n",
       "        text-align: right;\n",
       "    }\n",
       "</style>\n",
       "<table border=\"1\" class=\"dataframe\">\n",
       "  <thead>\n",
       "    <tr style=\"text-align: right;\">\n",
       "      <th></th>\n",
       "      <th>debt</th>\n",
       "    </tr>\n",
       "    <tr>\n",
       "      <th>parents</th>\n",
       "      <th></th>\n",
       "    </tr>\n",
       "  </thead>\n",
       "  <tbody>\n",
       "    <tr>\n",
       "      <td>многодетный</td>\n",
       "      <td>0.095238</td>\n",
       "    </tr>\n",
       "    <tr>\n",
       "      <td>2 ребенка</td>\n",
       "      <td>0.094542</td>\n",
       "    </tr>\n",
       "    <tr>\n",
       "      <td>1 ребенок</td>\n",
       "      <td>0.092346</td>\n",
       "    </tr>\n",
       "    <tr>\n",
       "      <td>бездетный</td>\n",
       "      <td>0.075408</td>\n",
       "    </tr>\n",
       "  </tbody>\n",
       "</table>\n",
       "</div>"
      ],
      "text/plain": [
       "                 debt\n",
       "parents              \n",
       "многодетный  0.095238\n",
       "2 ребенка    0.094542\n",
       "1 ребенок    0.092346\n",
       "бездетный    0.075408"
      ]
     },
     "execution_count": 29,
     "metadata": {},
     "output_type": "execute_result"
    }
   ],
   "source": [
    "data.groupby('parents')[['debt']].mean().sort_values(by = 'debt', ascending = False) # подсчет доли наличия долгов по кредитам среди родителей и бездетных\n"
   ]
  },
  {
   "cell_type": "markdown",
   "metadata": {},
   "source": [
    "### Вывод"
   ]
  },
  {
   "cell_type": "markdown",
   "metadata": {},
   "source": [
    "Чем больше детей у заемщика, тем больше вероятность долгов по кредиту. Такое явление может быть связано с тем, что в любое время у заемщика могут появиться непредвиденные расходы на детей, что может помешать вовремя погасить платеж по кредиту."
   ]
  },
  {
   "cell_type": "markdown",
   "metadata": {},
   "source": [
    "- Есть ли зависимость между семейным положением и возвратом кредита в срок?"
   ]
  },
  {
   "cell_type": "code",
   "execution_count": 30,
   "metadata": {},
   "outputs": [
    {
     "data": {
      "text/html": [
       "<div>\n",
       "<style scoped>\n",
       "    .dataframe tbody tr th:only-of-type {\n",
       "        vertical-align: middle;\n",
       "    }\n",
       "\n",
       "    .dataframe tbody tr th {\n",
       "        vertical-align: top;\n",
       "    }\n",
       "\n",
       "    .dataframe thead th {\n",
       "        text-align: right;\n",
       "    }\n",
       "</style>\n",
       "<table border=\"1\" class=\"dataframe\">\n",
       "  <thead>\n",
       "    <tr style=\"text-align: right;\">\n",
       "      <th></th>\n",
       "      <th>debt</th>\n",
       "    </tr>\n",
       "    <tr>\n",
       "      <th>family_keen</th>\n",
       "      <th></th>\n",
       "    </tr>\n",
       "  </thead>\n",
       "  <tbody>\n",
       "    <tr>\n",
       "      <td>без семьи</td>\n",
       "      <td>0.085435</td>\n",
       "    </tr>\n",
       "    <tr>\n",
       "      <td>семейный</td>\n",
       "      <td>0.078960</td>\n",
       "    </tr>\n",
       "  </tbody>\n",
       "</table>\n",
       "</div>"
      ],
      "text/plain": [
       "                 debt\n",
       "family_keen          \n",
       "без семьи    0.085435\n",
       "семейный     0.078960"
      ]
     },
     "execution_count": 30,
     "metadata": {},
     "output_type": "execute_result"
    }
   ],
   "source": [
    "data.groupby('family_keen')[['debt']].mean().sort_values(by = 'family_keen')\n",
    "# подсчет доли заемщицов с долгами по кредитам среди семейных и несемейных\n"
   ]
  },
  {
   "cell_type": "markdown",
   "metadata": {},
   "source": [
    "### Вывод"
   ]
  },
  {
   "cell_type": "markdown",
   "metadata": {},
   "source": [
    "Несемейные люди более склонны иметь долги по кредитам"
   ]
  },
  {
   "cell_type": "markdown",
   "metadata": {},
   "source": [
    "- Есть ли зависимость между уровнем дохода и возвратом кредита в срок?"
   ]
  },
  {
   "cell_type": "code",
   "execution_count": 31,
   "metadata": {},
   "outputs": [
    {
     "data": {
      "text/html": [
       "<div>\n",
       "<style scoped>\n",
       "    .dataframe tbody tr th:only-of-type {\n",
       "        vertical-align: middle;\n",
       "    }\n",
       "\n",
       "    .dataframe tbody tr th {\n",
       "        vertical-align: top;\n",
       "    }\n",
       "\n",
       "    .dataframe thead th {\n",
       "        text-align: right;\n",
       "    }\n",
       "</style>\n",
       "<table border=\"1\" class=\"dataframe\">\n",
       "  <thead>\n",
       "    <tr style=\"text-align: right;\">\n",
       "      <th></th>\n",
       "      <th>debt</th>\n",
       "    </tr>\n",
       "    <tr>\n",
       "      <th>income_range</th>\n",
       "      <th></th>\n",
       "    </tr>\n",
       "  </thead>\n",
       "  <tbody>\n",
       "    <tr>\n",
       "      <td>высокий</td>\n",
       "      <td>0.089364</td>\n",
       "    </tr>\n",
       "    <tr>\n",
       "      <td>средний</td>\n",
       "      <td>0.085034</td>\n",
       "    </tr>\n",
       "    <tr>\n",
       "      <td>низкий</td>\n",
       "      <td>0.078557</td>\n",
       "    </tr>\n",
       "    <tr>\n",
       "      <td>очень высокий</td>\n",
       "      <td>0.070667</td>\n",
       "    </tr>\n",
       "  </tbody>\n",
       "</table>\n",
       "</div>"
      ],
      "text/plain": [
       "                   debt\n",
       "income_range           \n",
       "высокий        0.089364\n",
       "средний        0.085034\n",
       "низкий         0.078557\n",
       "очень высокий  0.070667"
      ]
     },
     "execution_count": 31,
     "metadata": {},
     "output_type": "execute_result"
    }
   ],
   "source": [
    "data.groupby('income_range')[['debt']].mean().sort_values(by ='debt', ascending = False)\n",
    "# подсчет доли заемщиков с долгами по кредитам среди людей с разным доходом\n"
   ]
  },
  {
   "cell_type": "markdown",
   "metadata": {},
   "source": [
    "### Вывод"
   ]
  },
  {
   "cell_type": "markdown",
   "metadata": {},
   "source": [
    "Заемщики, чей доход составляет от 80 до 200 тыр имеют больше проблем с возвратом кредита в срок, тогда как люди с низким и очень высоким доходом, более чаще склонны отдавать кредит вовремя.\n",
    "Возможно это связано с тем, что заемщики с низким доходом более ответственно относятся к тратам и возврату долгов, а заемщики с очень высоким доходом - просто имеют достаточно средств для погашения кредитов в срок."
   ]
  },
  {
   "cell_type": "markdown",
   "metadata": {},
   "source": [
    "- Как разные цели кредита влияют на его возврат в срок?"
   ]
  },
  {
   "cell_type": "code",
   "execution_count": 32,
   "metadata": {
    "scrolled": true
   },
   "outputs": [
    {
     "data": {
      "text/html": [
       "<div>\n",
       "<style scoped>\n",
       "    .dataframe tbody tr th:only-of-type {\n",
       "        vertical-align: middle;\n",
       "    }\n",
       "\n",
       "    .dataframe tbody tr th {\n",
       "        vertical-align: top;\n",
       "    }\n",
       "\n",
       "    .dataframe thead th {\n",
       "        text-align: right;\n",
       "    }\n",
       "</style>\n",
       "<table border=\"1\" class=\"dataframe\">\n",
       "  <thead>\n",
       "    <tr style=\"text-align: right;\">\n",
       "      <th></th>\n",
       "      <th>debt</th>\n",
       "    </tr>\n",
       "    <tr>\n",
       "      <th>purpose_category</th>\n",
       "      <th></th>\n",
       "    </tr>\n",
       "  </thead>\n",
       "  <tbody>\n",
       "    <tr>\n",
       "      <td>авто</td>\n",
       "      <td>0.093590</td>\n",
       "    </tr>\n",
       "    <tr>\n",
       "      <td>образование</td>\n",
       "      <td>0.092200</td>\n",
       "    </tr>\n",
       "    <tr>\n",
       "      <td>свадьба</td>\n",
       "      <td>0.080034</td>\n",
       "    </tr>\n",
       "    <tr>\n",
       "      <td>жилье</td>\n",
       "      <td>0.072334</td>\n",
       "    </tr>\n",
       "  </tbody>\n",
       "</table>\n",
       "</div>"
      ],
      "text/plain": [
       "                      debt\n",
       "purpose_category          \n",
       "авто              0.093590\n",
       "образование       0.092200\n",
       "свадьба           0.080034\n",
       "жилье             0.072334"
      ]
     },
     "execution_count": 32,
     "metadata": {},
     "output_type": "execute_result"
    }
   ],
   "source": [
    "data.groupby('purpose_category')[['debt']].mean().sort_values(by='debt', ascending = False)\n",
    "# подсчет доли заемщиков с долгами по кредитам в зависимости от цели кредита\n"
   ]
  },
  {
   "cell_type": "markdown",
   "metadata": {},
   "source": [
    "### Вывод"
   ]
  },
  {
   "cell_type": "markdown",
   "metadata": {},
   "source": [
    "Больше всего долгов по кредитам в категории людей, берущих кредит на машину и образование. Но % невозврата в этих категорях лишь ненамного выше, чем в случаях кредита на свадьбу или жилье."
   ]
  },
  {
   "cell_type": "markdown",
   "metadata": {},
   "source": [
    "### Шаг 4. Общий вывод"
   ]
  },
  {
   "cell_type": "markdown",
   "metadata": {},
   "source": [
    "В ходе исследования были выявлены следующие наблюдения:\n",
    "\n",
    "1 - чем больше детей у заемщика, тем он более склонен к долгам по кредиту\n",
    "\n",
    "2 - если у заемщика нет семьи, то заемщик с большей вероятностью будет иметь проблемы с погашением кредита\n",
    "\n",
    "3 - заемщики со средним и высоким уровнем дохода имеют больше невозвратных кредитов, в отличии от тех, чей доход низкий или очень высокий\n",
    "\n",
    "4 - по анализу целей кредита оказалось, что долгов больше у тех, кто брал деньги на покупку авто, либо на образование\n",
    "\n",
    "Таким образом, самым благонадежным заемщиком банка является семейный человек без детей, либо с 1 ребенком, с низким или очень высоким уровнем дохода, берущий кредит на покупку жилья. Скорей всего, это будут молодые люди, кто недавно поженился, еще не успел обзавестись детьми и хочет приобрести собственное жилье."
   ]
  },
  {
   "cell_type": "code",
   "execution_count": null,
   "metadata": {},
   "outputs": [],
   "source": []
  }
 ],
 "metadata": {
  "kernelspec": {
   "display_name": "Python 3",
   "language": "python",
   "name": "python3"
  },
  "language_info": {
   "codemirror_mode": {
    "name": "ipython",
    "version": 3
   },
   "file_extension": ".py",
   "mimetype": "text/x-python",
   "name": "python",
   "nbconvert_exporter": "python",
   "pygments_lexer": "ipython3",
   "version": "3.7.6"
  }
 },
 "nbformat": 4,
 "nbformat_minor": 2
}
